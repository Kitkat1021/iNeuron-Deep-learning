{
  "nbformat": 4,
  "nbformat_minor": 0,
  "metadata": {
    "colab": {
      "name": "Assignment_4.ipynb",
      "provenance": [],
      "collapsed_sections": [],
      "include_colab_link": true
    },
    "kernelspec": {
      "name": "python3",
      "display_name": "Python 3"
    }
  },
  "cells": [
    {
      "cell_type": "markdown",
      "metadata": {
        "id": "view-in-github",
        "colab_type": "text"
      },
      "source": [
        "<a href=\"https://colab.research.google.com/github/Kitkat1021/iNeuron-Deep-learning/blob/main/Assignment_4.ipynb\" target=\"_parent\"><img src=\"https://colab.research.google.com/assets/colab-badge.svg\" alt=\"Open In Colab\"/></a>"
      ]
    },
    {
      "cell_type": "markdown",
      "metadata": {
        "id": "D8bVuztljxmZ"
      },
      "source": [
        "### Assignment 4\n",
        "\n",
        "Mudit Rustagi"
      ]
    },
    {
      "cell_type": "markdown",
      "metadata": {
        "id": "F-EgG5pKmrKB"
      },
      "source": [
        "1.1 Write a Python Program(with class concepts) to find the area of the triangle using the below\n",
        "formula.\n",
        "\n",
        "area = (s*(s-a)*(s-b)*(s-c)) ** 0.5\n",
        "\n",
        "Function to take the length of the sides of triangle from user should be defined in the parent\n",
        "class and function to calculate the area should be defined in subclass.\n"
      ]
    },
    {
      "cell_type": "code",
      "metadata": {
        "id": "bayDxXldnURg"
      },
      "source": [
        "class Marea:\n",
        "   def __init__(self,a,b,c):\n",
        "     self.a=a\n",
        "     self.b=b\n",
        "     self.c=c\n",
        "\n",
        "   \n",
        "\n",
        "class carea(Marea):\n",
        "  def __init__(self,a,b,c):\n",
        "    Marea.__init__(self,a,b,c)\n",
        "\n",
        "  def areacal(self):\n",
        "    s = (self.a + self.b + self.c) / 2\t \n",
        "    area = (s*(s-self.a)*(s-self.b)*(s-self.c)) ** 0.5\n",
        "    print(\"The lengths of the triangle are:\"+str(self.a)+\", \"+str(self.b)+\", \"+str(self.c))\n",
        "    print('The area of the triangle is %0.2f' % area)\n",
        "\n",
        "\n",
        "\n",
        " "
      ],
      "execution_count": null,
      "outputs": []
    },
    {
      "cell_type": "code",
      "metadata": {
        "id": "tOhaQs5Sw0Ag",
        "colab": {
          "base_uri": "https://localhost:8080/",
          "height": 50
        },
        "outputId": "aeecb75e-843b-4168-aacc-ab64c7cf2e4f"
      },
      "source": [
        "a=carea(3,4,5)\n",
        "a.areacal()"
      ],
      "execution_count": null,
      "outputs": [
        {
          "output_type": "stream",
          "text": [
            "The lengths of the triangle are:3, 4, 5\n",
            "The area of the triangle is 6.00\n"
          ],
          "name": "stdout"
        }
      ]
    },
    {
      "cell_type": "markdown",
      "metadata": {
        "id": "OQce571tm0KU"
      },
      "source": [
        "1.2 Write a function filter_long_words() that takes a list of words and an integer n and returns\n",
        "the list of words that are longer than n.\n"
      ]
    },
    {
      "cell_type": "code",
      "metadata": {
        "id": "GrubFVh1nU3k",
        "colab": {
          "base_uri": "https://localhost:8080/",
          "height": 34
        },
        "outputId": "4135d591-9849-494e-c8e7-2c0b27929d00"
      },
      "source": [
        "def filterw(n,listw):\n",
        "  return(filter(lambda x:len(x)>n,listw))\n",
        "\n",
        "list(filterw(5,[\"jjjjjjjjjjjjjjj\",\"uu\",\"oooooooooooooooo\"]))"
      ],
      "execution_count": null,
      "outputs": [
        {
          "output_type": "execute_result",
          "data": {
            "text/plain": [
              "['jjjjjjjjjjjjjjj', 'oooooooooooooooo']"
            ]
          },
          "metadata": {
            "tags": []
          },
          "execution_count": 1
        }
      ]
    },
    {
      "cell_type": "markdown",
      "metadata": {
        "id": "17b_4vxwm3Tq"
      },
      "source": [
        "2.1 Write a Python program using function concept that maps list of words into a list of integers\n",
        "representing the lengths of the corresponding words.\n",
        "\n",
        "Hint: If a list [ ab,cde,erty] is passed on to the python function output should come as [2,3,4]\n",
        "\n",
        "Here 2,3 and 4 are the lengths of the words in the list.\n"
      ]
    },
    {
      "cell_type": "code",
      "metadata": {
        "id": "on5WVcwvnVrz",
        "colab": {
          "base_uri": "https://localhost:8080/",
          "height": 34
        },
        "outputId": "4ab62a39-cc5e-458b-9ebb-17fb457f106f"
      },
      "source": [
        "def maplenwrd(listy):\n",
        "  return(map(len,listy))\n",
        "\n",
        "list(maplenwrd([\"a\",\"aaaa\",\"aaaaaaaaaa\",\"iiiiiiiiiiiiiiiiiiiiiiiiiiiiiiiiiiiiiiiiiiiiiiiiiii\"]))\n"
      ],
      "execution_count": null,
      "outputs": [
        {
          "output_type": "execute_result",
          "data": {
            "text/plain": [
              "[1, 4, 10, 51]"
            ]
          },
          "metadata": {
            "tags": []
          },
          "execution_count": 2
        }
      ]
    },
    {
      "cell_type": "markdown",
      "metadata": {
        "id": "uKkLB_xum8kQ"
      },
      "source": [
        "2.2 Write a Python function which takes a character (i.e. a string of length 1) and returns True if\n",
        "it is a vowel, False otherwise."
      ]
    },
    {
      "cell_type": "code",
      "metadata": {
        "id": "hgyrIkWVnWV9"
      },
      "source": [
        "def vowelchecker(charc):\n",
        "  c=charc.lower()\n",
        "  a=[\"a\",\"e\",\"i\",\"o\",\"u\"]\n",
        "  if c in a:\n",
        "    return True\n",
        "  else:\n",
        "    return False"
      ],
      "execution_count": null,
      "outputs": []
    },
    {
      "cell_type": "code",
      "metadata": {
        "id": "QJANQbZNvT56",
        "colab": {
          "base_uri": "https://localhost:8080/",
          "height": 33
        },
        "outputId": "8287e2db-bb53-4fc9-8ca0-d0702ffb038b"
      },
      "source": [
        "vowelchecker(\"V\")"
      ],
      "execution_count": null,
      "outputs": [
        {
          "output_type": "execute_result",
          "data": {
            "text/plain": [
              "False"
            ]
          },
          "metadata": {
            "tags": []
          },
          "execution_count": 19
        }
      ]
    }
  ]
}