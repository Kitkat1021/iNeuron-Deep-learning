{
  "nbformat": 4,
  "nbformat_minor": 0,
  "metadata": {
    "kernelspec": {
      "display_name": "Python 3",
      "language": "python",
      "name": "python3"
    },
    "language_info": {
      "codemirror_mode": {
        "name": "ipython",
        "version": 3
      },
      "file_extension": ".py",
      "mimetype": "text/x-python",
      "name": "python",
      "nbconvert_exporter": "python",
      "pygments_lexer": "ipython3",
      "version": "3.7.4"
    },
    "colab": {
      "name": "Assignment_5.ipynb",
      "provenance": [],
      "collapsed_sections": [],
      "include_colab_link": true
    }
  },
  "cells": [
    {
      "cell_type": "markdown",
      "metadata": {
        "id": "view-in-github",
        "colab_type": "text"
      },
      "source": [
        "<a href=\"https://colab.research.google.com/github/Kitkat1021/iNeuron-Deep-learning/blob/main/Assignment_5.ipynb\" target=\"_parent\"><img src=\"https://colab.research.google.com/assets/colab-badge.svg\" alt=\"Open In Colab\"/></a>"
      ]
    },
    {
      "cell_type": "markdown",
      "metadata": {
        "id": "VdA_30IRsgon"
      },
      "source": [
        " ### Assignment 5\n",
        "\n",
        " Mudit Rustagi"
      ]
    },
    {
      "cell_type": "markdown",
      "metadata": {
        "id": "uBE4n0sKsgoo"
      },
      "source": [
        "\n",
        "### 1. Write a function to compute 5/0 and use try/except to catch the exceptions. \n"
      ]
    },
    {
      "cell_type": "code",
      "metadata": {
        "id": "ibOBJGfNsgop",
        "outputId": "2bd4bc84-b533-4f7f-d547-4e5a1cd2b531"
      },
      "source": [
        "def division():\n",
        "    return 5/0\n",
        "\n",
        "try:\n",
        "    division()\n",
        "except ZeroDivisionError as ze:\n",
        "    print(\"ZERRO DIVIDE EXCEPTION\")"
      ],
      "execution_count": null,
      "outputs": [
        {
          "output_type": "stream",
          "text": [
            "ZERRO DIVIDE EXCEPTION\n"
          ],
          "name": "stdout"
        }
      ]
    },
    {
      "cell_type": "markdown",
      "metadata": {
        "id": "jpsGX1qbsgos"
      },
      "source": [
        "### 2. Implement a Python program to generate all sentences where subject is in [\"Americans\", \"Indians\"] and verb is in [\"Play\", \"watch\"] and the object is in [\"Baseball\",\"cricket\"]. \n",
        "### Hint: Subject,Verb and Object should be declared in the program as shown below. \n",
        "### subjects=[\"Americans \",\"Indians\"] verbs=[\"play\",\"watch\"] objects=[\"Baseball\",\"Cricket\"] \n"
      ]
    },
    {
      "cell_type": "markdown",
      "metadata": {
        "id": "iLT-KS_5sgot"
      },
      "source": [
        "### Output should come as below: \n",
        "### Americans play Baseball.\n",
        "### Americans play Cricket. \n",
        "### Americans watch Baseball.\n",
        "### Americans watch Cricket.\n",
        "### Indians play Baseball. \n",
        "### Indians play Cricket.\n",
        "### Indians watch Baseball.\n",
        "### Indians watch Cricket. \n"
      ]
    },
    {
      "cell_type": "code",
      "metadata": {
        "id": "r7gCkUtZsgot",
        "outputId": "8db055d2-bc9b-4681-f4ba-d5612965fc7e"
      },
      "source": [
        "subject = [\"Americans\", \"Indians\"]\n",
        "verb = [\"Play\", \"watch\"]\n",
        "obj = [\"Baseball\",\"cricket\"]\n",
        "sentence_list = [(sub+\" \"+ vb + \" \" + ob) for sub in subject for vb in verb for ob in obj]\n",
        "for sentence in sentence_list:\n",
        "    print(sentence)"
      ],
      "execution_count": null,
      "outputs": [
        {
          "output_type": "stream",
          "text": [
            "Americans Play Baseball\n",
            "Americans Play cricket\n",
            "Americans watch Baseball\n",
            "Americans watch cricket\n",
            "Indians Play Baseball\n",
            "Indians Play cricket\n",
            "Indians watch Baseball\n",
            "Indians watch cricket\n"
          ],
          "name": "stdout"
        }
      ]
    }
  ]
}