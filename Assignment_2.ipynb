{
  "nbformat": 4,
  "nbformat_minor": 0,
  "metadata": {
    "colab": {
      "name": "Assignment_2.ipynb",
      "provenance": [],
      "collapsed_sections": [],
      "include_colab_link": true
    },
    "kernelspec": {
      "name": "python3",
      "display_name": "Python 3"
    }
  },
  "cells": [
    {
      "cell_type": "markdown",
      "metadata": {
        "id": "view-in-github",
        "colab_type": "text"
      },
      "source": [
        "<a href=\"https://colab.research.google.com/github/Kitkat1021/iNeuron-Deep-learning/blob/main/Assignment_2.ipynb\" target=\"_parent\"><img src=\"https://colab.research.google.com/assets/colab-badge.svg\" alt=\"Open In Colab\"/></a>"
      ]
    },
    {
      "cell_type": "markdown",
      "metadata": {
        "id": "39IJL0n79oet"
      },
      "source": [
        "### Assignment 2\n",
        "\n",
        "Mudit Rustagi"
      ]
    },
    {
      "cell_type": "markdown",
      "metadata": {
        "id": "KUftH0x29tBJ"
      },
      "source": [
        "## 1. Create the below pattern using nested for loop in Python. \n",
        "\n"
      ]
    },
    {
      "cell_type": "code",
      "metadata": {
        "id": "i13HgHFFPXMa",
        "colab": {
          "base_uri": "https://localhost:8080/",
          "height": 318
        },
        "outputId": "29e0abe6-a78f-4e5a-baeb-86a710841846"
      },
      "source": [
        "for i in range(0,9):\n",
        "    if(i <= 4):\n",
        "        for j in range(0,i+1):\n",
        "            print(\"*\", end=\" \")\n",
        "        print(\"\\n\")\n",
        "    else:\n",
        "        for j in range(i,9):\n",
        "            print(\"*\", end=\" \")\n",
        "        print(\"\\n\")"
      ],
      "execution_count": null,
      "outputs": [
        {
          "output_type": "stream",
          "text": [
            "* \n",
            "\n",
            "* * \n",
            "\n",
            "* * * \n",
            "\n",
            "* * * * \n",
            "\n",
            "* * * * * \n",
            "\n",
            "* * * * \n",
            "\n",
            "* * * \n",
            "\n",
            "* * \n",
            "\n",
            "* \n",
            "\n"
          ],
          "name": "stdout"
        }
      ]
    },
    {
      "cell_type": "markdown",
      "metadata": {
        "id": "T3Uh7gae9w_P"
      },
      "source": [
        "### 2. Write a Python program to reverse a word after accepting the input from the user. \n",
        "### Sample Output: \n",
        "### Input word: ineuron \n",
        "### Output: norueni \n"
      ]
    },
    {
      "cell_type": "code",
      "metadata": {
        "id": "jcJmd3AvRENY",
        "colab": {
          "base_uri": "https://localhost:8080/",
          "height": 50
        },
        "outputId": "e4fd9098-f2ff-4516-db30-32d2cc9820f9"
      },
      "source": [
        "word=input(\"Enter the value:\")\n",
        "print(\"Reverse:\",word[::-1])"
      ],
      "execution_count": null,
      "outputs": [
        {
          "output_type": "stream",
          "text": [
            "Enter the value:sherlock\n",
            "Reverse: kcolrehs\n"
          ],
          "name": "stdout"
        }
      ]
    }
  ]
}