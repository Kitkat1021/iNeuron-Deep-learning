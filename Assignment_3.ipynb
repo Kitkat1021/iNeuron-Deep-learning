{
  "nbformat": 4,
  "nbformat_minor": 0,
  "metadata": {
    "colab": {
      "name": "Assignment_3.ipynb",
      "provenance": [],
      "collapsed_sections": [],
      "include_colab_link": true
    },
    "kernelspec": {
      "name": "python3",
      "display_name": "Python 3"
    }
  },
  "cells": [
    {
      "cell_type": "markdown",
      "metadata": {
        "id": "view-in-github",
        "colab_type": "text"
      },
      "source": [
        "<a href=\"https://colab.research.google.com/github/Kitkat1021/iNeuron-Deep-learning/blob/main/Assignment_3.ipynb\" target=\"_parent\"><img src=\"https://colab.research.google.com/assets/colab-badge.svg\" alt=\"Open In Colab\"/></a>"
      ]
    },
    {
      "cell_type": "markdown",
      "metadata": {
        "id": "XjKXqeBYi-xX"
      },
      "source": [
        "### Assignment 3\n",
        "\n",
        "Mudit Rustagi"
      ]
    },
    {
      "cell_type": "markdown",
      "metadata": {
        "id": "stTeQWsbrged"
      },
      "source": [
        "### 1.1 Write a Python Program to implement your own myreduce() function which works exactly like Python's built-in function reduce()\n"
      ]
    },
    {
      "cell_type": "code",
      "metadata": {
        "id": "X8f268rbrrbb"
      },
      "source": [
        "def myreduce(kfunc,klist):\n",
        "  x=klist[0]\n",
        "  for i in range(1,len(klist)):\n",
        "    x=kfunc(x,klist[i])#klist(1,2)\n",
        "  return x"
      ],
      "execution_count": null,
      "outputs": []
    },
    {
      "cell_type": "code",
      "metadata": {
        "id": "gwps812ie5jI"
      },
      "source": [
        "def add(a,b):\n",
        "    return a+b\n",
        "\n",
        "def mul(c,d):\n",
        "  return c*d"
      ],
      "execution_count": null,
      "outputs": []
    },
    {
      "cell_type": "code",
      "metadata": {
        "id": "HDu1EAH0e_tp",
        "colab": {
          "base_uri": "https://localhost:8080/",
          "height": 50
        },
        "outputId": "d34fdf87-8c9c-469b-a336-175dd55f80ac"
      },
      "source": [
        "print(\"Addition:\",myreduce(add,[1,2,3,4]))\n",
        "print(\"Multiplication:\",myreduce(mul,[1,2,3,4]))"
      ],
      "execution_count": null,
      "outputs": [
        {
          "output_type": "stream",
          "text": [
            "Addition: 10\n",
            "Multiplication: 24\n"
          ],
          "name": "stdout"
        }
      ]
    },
    {
      "cell_type": "markdown",
      "metadata": {
        "id": "6QNDKcNErjsH"
      },
      "source": [
        "### 1.2 Write a Python program to implement your own myfilter() function which works exactly like Python's built-in function filter()\n"
      ]
    },
    {
      "cell_type": "code",
      "metadata": {
        "id": "_TO0jjNd-cs-",
        "colab": {
          "base_uri": "https://localhost:8080/",
          "height": 50
        },
        "outputId": "addbf8fb-f657-42a1-9388-450119c796ad"
      },
      "source": [
        "def myfilter(fun, alist):\n",
        "    x = []\n",
        "    y = []\n",
        "    \n",
        "    for i in alist:\n",
        "        x.append(fun(i))\n",
        "\n",
        "    \n",
        "    for i in range(0, len(x)):\n",
        "        \n",
        "        if x[i] == False:\n",
        "            continue\n",
        "        \n",
        "        else:\n",
        "            y.append(x[i])\n",
        "    \n",
        "    return y\n",
        "        \n",
        "def multiple_3(i):\n",
        "    \n",
        "    if i%3==0:\n",
        "        return i\n",
        "    \n",
        "    else:\n",
        "        return False\n",
        "\n",
        "def evenchk(i):\n",
        "\n",
        "  if i%2==0:\n",
        "    return i\n",
        "  else:\n",
        "    return False \n",
        "\n",
        "print(myfilter(multiple_3 ,[1,2,1,3,558,96,6]))\n",
        "print(myfilter(evenchk,[1,2,1,3,558,96,6]))\n"
      ],
      "execution_count": null,
      "outputs": [
        {
          "output_type": "stream",
          "text": [
            "[3, 558, 96, 6]\n",
            "[2, 558, 96, 6]\n"
          ],
          "name": "stdout"
        }
      ]
    },
    {
      "cell_type": "markdown",
      "metadata": {
        "id": "obrFkyzXrnbd"
      },
      "source": [
        "### 2. Implement List comprehensions to produce the following lists.\n",
        "### Write List comprehensions to produce the following Lists\n",
        "\n",
        "### ['A', 'C', 'A', 'D', 'G', 'I', ’L’, ‘ D’]\n"
      ]
    },
    {
      "cell_type": "code",
      "metadata": {
        "id": "YDPdKOy_rsdJ",
        "colab": {
          "base_uri": "https://localhost:8080/",
          "height": 33
        },
        "outputId": "23f28422-0313-4ef5-9138-e47cd80e7c09"
      },
      "source": [
        "elist=\"acadgild\"\n",
        "[i.upper() for i in elist]"
      ],
      "execution_count": null,
      "outputs": [
        {
          "output_type": "execute_result",
          "data": {
            "text/plain": [
              "['A', 'C', 'A', 'D', 'G', 'I', 'L', 'D']"
            ]
          },
          "metadata": {
            "tags": []
          },
          "execution_count": 4
        }
      ]
    },
    {
      "cell_type": "code",
      "metadata": {
        "id": "qM-J7o6DSiC9",
        "colab": {
          "base_uri": "https://localhost:8080/",
          "height": 84
        },
        "outputId": "34615676-7a55-4b6d-dbfd-24ab0ccc3333"
      },
      "source": [
        "elust=[1,2,3,4]\n",
        "for i in elust:\n",
        "  print(i)"
      ],
      "execution_count": null,
      "outputs": [
        {
          "output_type": "stream",
          "text": [
            "1\n",
            "2\n",
            "3\n",
            "4\n"
          ],
          "name": "stdout"
        }
      ]
    },
    {
      "cell_type": "markdown",
      "metadata": {
        "id": "BzANGRy5sKFx"
      },
      "source": [
        "### ['x', 'xx', 'xxx', 'xxxx', 'y', 'yy', 'yyy', 'yyyy', 'z', 'zz', 'zzz', 'zzzz']\n"
      ]
    },
    {
      "cell_type": "code",
      "metadata": {
        "id": "zk2RcjCovQah",
        "colab": {
          "base_uri": "https://localhost:8080/",
          "height": 34
        },
        "outputId": "ef0d030d-f73e-4935-fc58-54214f7e539e"
      },
      "source": [
        "x=\"x\",\"y\",\"z\"\n",
        "[i*j for i in x for j in range(1,5)]"
      ],
      "execution_count": null,
      "outputs": [
        {
          "output_type": "execute_result",
          "data": {
            "text/plain": [
              "['x', 'xx', 'xxx', 'xxxx', 'y', 'yy', 'yyy', 'yyyy', 'z', 'zz', 'zzz', 'zzzz']"
            ]
          },
          "metadata": {
            "tags": []
          },
          "execution_count": 11
        }
      ]
    },
    {
      "cell_type": "markdown",
      "metadata": {
        "id": "Fkh0lGn6sNQG"
      },
      "source": [
        "### ['x', 'y', 'z', 'xx', 'yy', 'zz', 'xxx', 'yyy', 'zzz', 'xxxx', 'yyyy', 'zzzz']\n"
      ]
    },
    {
      "cell_type": "code",
      "metadata": {
        "id": "6Bj3dhaJtJ0E",
        "colab": {
          "base_uri": "https://localhost:8080/",
          "height": 33
        },
        "outputId": "69d62edd-4247-4146-f634-66d67504b85a"
      },
      "source": [
        "[j*i for i in range(1,5) for j in [\"x\",\"y\",\"z\"]]"
      ],
      "execution_count": null,
      "outputs": [
        {
          "output_type": "execute_result",
          "data": {
            "text/plain": [
              "['x', 'y', 'z', 'xx', 'yy', 'zz', 'xxx', 'yyy', 'zzz', 'xxxx', 'yyyy', 'zzzz']"
            ]
          },
          "metadata": {
            "tags": []
          },
          "execution_count": 30
        }
      ]
    },
    {
      "cell_type": "markdown",
      "metadata": {
        "id": "K1OrsRCesQX4"
      },
      "source": [
        "### [[2], [3], [4], [3], [4], [5], [4], [5], [6]] "
      ]
    },
    {
      "cell_type": "code",
      "metadata": {
        "id": "6_EWC2A_0Hxy",
        "colab": {
          "base_uri": "https://localhost:8080/",
          "height": 33
        },
        "outputId": "d1e3ff27-18f6-4a14-d824-f2491c19f99d"
      },
      "source": [
        "[[j+i]for i in range(1,4) for j in [1,2,3]]"
      ],
      "execution_count": null,
      "outputs": [
        {
          "output_type": "execute_result",
          "data": {
            "text/plain": [
              "[[2], [3], [4], [3], [4], [5], [4], [5], [6]]"
            ]
          },
          "metadata": {
            "tags": []
          },
          "execution_count": 31
        }
      ]
    },
    {
      "cell_type": "markdown",
      "metadata": {
        "id": "agtJMTew0EMN"
      },
      "source": [
        "[[2, 3, 4, 5], [3, 4, 5, 6], [4, 5, 6, 7], [5, 6, 7, 8]]\n"
      ]
    },
    {
      "cell_type": "code",
      "metadata": {
        "id": "Sg8oaHWRtKlU",
        "colab": {
          "base_uri": "https://localhost:8080/",
          "height": 33
        },
        "outputId": "404845ca-c3e1-4ea0-f8bf-d3707111c73c"
      },
      "source": [
        "[[i+j for j in range(0,4)] for i in [2,3,4,5]]"
      ],
      "execution_count": null,
      "outputs": [
        {
          "output_type": "execute_result",
          "data": {
            "text/plain": [
              "[[2, 3, 4, 5], [3, 4, 5, 6], [4, 5, 6, 7], [5, 6, 7, 8]]"
            ]
          },
          "metadata": {
            "tags": []
          },
          "execution_count": 36
        }
      ]
    },
    {
      "cell_type": "markdown",
      "metadata": {
        "id": "28p4UsCytBvo"
      },
      "source": [
        "### [(1, 1), (2, 1), (3, 1), (1, 2), (2, 2), (3, 2), (1, 3), (2, 3), (3, 3)]"
      ]
    },
    {
      "cell_type": "code",
      "metadata": {
        "id": "J7_qlmNbtLES",
        "colab": {
          "base_uri": "https://localhost:8080/",
          "height": 33
        },
        "outputId": "cdb51d16-c5c7-48f1-b026-13ea49442a54"
      },
      "source": [
        "[(j,i)for i in range(1,4) for j in [1,2,3]]"
      ],
      "execution_count": null,
      "outputs": [
        {
          "output_type": "execute_result",
          "data": {
            "text/plain": [
              "[(1, 1), (2, 1), (3, 1), (1, 2), (2, 2), (3, 2), (1, 3), (2, 3), (3, 3)]"
            ]
          },
          "metadata": {
            "tags": []
          },
          "execution_count": 37
        }
      ]
    }
  ]
}